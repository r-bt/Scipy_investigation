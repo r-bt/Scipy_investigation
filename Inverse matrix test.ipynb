{
 "cells": [
  {
   "cell_type": "code",
   "execution_count": 1,
   "metadata": {},
   "outputs": [],
   "source": [
    "import numpy as np\n",
    "from scipy.sparse.linalg import spilu\n",
    "from scipy.sparse.linalg import lgmres\n",
    "from scipy.sparse.linalg import LinearOperator\n",
    "import pickle\n",
    "from scipy.sparse import csc_matrix\n",
    "import time"
   ]
  },
  {
   "cell_type": "code",
   "execution_count": 2,
   "metadata": {},
   "outputs": [],
   "source": [
    "tol = 1e-6\n",
    "iterations = 0"
   ]
  },
  {
   "cell_type": "code",
   "execution_count": 4,
   "metadata": {},
   "outputs": [],
   "source": [
    "f = open(\"a_array\", \"rb\")\n",
    "matrix = pickle.load(f)\n",
    "f.close()\n",
    "\n",
    "f = open(\"b_array\", \"rb\")\n",
    "solution = np.load(f)\n",
    "f.close()"
   ]
  },
  {
   "cell_type": "markdown",
   "metadata": {},
   "source": [
    "## Create the inverse matrix"
   ]
  },
  {
   "cell_type": "markdown",
   "metadata": {},
   "source": [
    "While it says in the documentation that the iLU returns an approximate inverse matrix, I wasn't able to find this in the object itself. So I just solve for the identity matrix as has been recommended in some papers dealing with LU decomposition"
   ]
  },
  {
   "cell_type": "code",
   "execution_count": 5,
   "metadata": {},
   "outputs": [],
   "source": [
    "iLU = spilu(matrix.tocsc(), fill_factor=10)\n",
    "iLUx = lambda x: iLU.solve(x)\n",
    "P = LinearOperator(matrix.shape, iLUx)"
   ]
  },
  {
   "cell_type": "code",
   "execution_count": 6,
   "metadata": {},
   "outputs": [],
   "source": [
    "approx_inverse = iLU.solve(np.identity(32))"
   ]
  },
  {
   "cell_type": "markdown",
   "metadata": {},
   "source": [
    "### Identity matrix"
   ]
  },
  {
   "cell_type": "code",
   "execution_count": 7,
   "metadata": {
    "scrolled": true
   },
   "outputs": [],
   "source": [
    "identity = approx_inverse * matrix"
   ]
  },
  {
   "cell_type": "code",
   "execution_count": 8,
   "metadata": {
    "scrolled": true
   },
   "outputs": [
    {
     "data": {
      "text/plain": [
       "array([[ 1.00000000e+00,  1.20311054e-17,  1.22354995e-16, ...,\n",
       "        -6.29617492e-12,  9.98613947e-12,  3.47508204e-11],\n",
       "       [ 3.69160264e-19,  1.00000000e+00, -5.97133690e-17, ...,\n",
       "         2.82006079e-12, -4.44487910e-12, -1.70997629e-11],\n",
       "       [ 2.04949593e-17,  7.10491071e-18,  1.00000000e+00, ...,\n",
       "        -2.81578441e-12,  4.44453339e-12,  1.52196902e-11],\n",
       "       ...,\n",
       "       [ 2.12045811e-27, -7.67403889e-27, -4.03896783e-28, ...,\n",
       "         9.99999989e-01,  1.43497435e-09, -3.99589639e-10],\n",
       "       [-9.08767763e-28,  4.84676140e-27,  6.05845175e-28, ...,\n",
       "         1.08444763e-08,  9.99999999e-01,  3.97404581e-10],\n",
       "       [ 6.46234854e-27, -1.93870456e-26, -2.58493941e-26, ...,\n",
       "        -6.60969302e-08, -4.49134870e-08,  1.00000001e+00]])"
      ]
     },
     "execution_count": 8,
     "metadata": {},
     "output_type": "execute_result"
    }
   ],
   "source": [
    "identity"
   ]
  },
  {
   "cell_type": "markdown",
   "metadata": {},
   "source": [
    "## How good is the inverse matrix"
   ]
  },
  {
   "cell_type": "code",
   "execution_count": 9,
   "metadata": {},
   "outputs": [],
   "source": [
    "from scipy.sparse.linalg import inv\n",
    "import random, math"
   ]
  },
  {
   "cell_type": "code",
   "execution_count": 10,
   "metadata": {},
   "outputs": [],
   "source": [
    "true_inverse = inv(matrix.tocsc())"
   ]
  },
  {
   "cell_type": "code",
   "execution_count": 11,
   "metadata": {},
   "outputs": [],
   "source": [
    "diff = true_inverse - approx_inverse"
   ]
  },
  {
   "cell_type": "code",
   "execution_count": 12,
   "metadata": {},
   "outputs": [
    {
     "data": {
      "text/plain": [
       "-7.2464966362977234"
      ]
     },
     "execution_count": 12,
     "metadata": {},
     "output_type": "execute_result"
    }
   ],
   "source": [
    "av = []\n",
    "\n",
    "for i in range(1, 400):\n",
    "    row = random.sample(range(1,32), 1)\n",
    "    column = random.sample(range(1,32), 1)\n",
    "    av.append(diff[row, column][0])\n",
    "\n",
    "mean = np.mean(av)\n",
    "math.log10(abs(mean))"
   ]
  }
 ],
 "metadata": {
  "kernelspec": {
   "display_name": "Python 3",
   "language": "python",
   "name": "python3"
  },
  "language_info": {
   "codemirror_mode": {
    "name": "ipython",
    "version": 3
   },
   "file_extension": ".py",
   "mimetype": "text/x-python",
   "name": "python",
   "nbconvert_exporter": "python",
   "pygments_lexer": "ipython3",
   "version": "3.6.8"
  }
 },
 "nbformat": 4,
 "nbformat_minor": 2
}
