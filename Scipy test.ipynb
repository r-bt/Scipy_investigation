{
 "cells": [
  {
   "cell_type": "code",
   "execution_count": 3,
   "metadata": {},
   "outputs": [],
   "source": [
    "import numpy as np\n",
    "from scipy.sparse.linalg import spilu\n",
    "from scipy.sparse.linalg import lgmres\n",
    "from scipy.sparse.linalg import LinearOperator\n",
    "import pickle\n",
    "from scipy.sparse import csc_matrix\n",
    "import time"
   ]
  },
  {
   "cell_type": "code",
   "execution_count": 4,
   "metadata": {},
   "outputs": [],
   "source": [
    "tol = 1e-6\n",
    "iterations = 0"
   ]
  },
  {
   "cell_type": "code",
   "execution_count": 5,
   "metadata": {},
   "outputs": [],
   "source": [
    "def count_iterations(result):\n",
    "    global iterations\n",
    "    iterations += 1"
   ]
  },
  {
   "cell_type": "code",
   "execution_count": 6,
   "metadata": {},
   "outputs": [],
   "source": [
    "f = open(\"a_array\", \"rb\")\n",
    "matrix = pickle.load(f)\n",
    "f.close()\n",
    "\n",
    "f = open(\"b_array\", \"rb\")\n",
    "solution = np.load(f)\n",
    "f.close()"
   ]
  },
  {
   "cell_type": "code",
   "execution_count": 21,
   "metadata": {},
   "outputs": [],
   "source": [
    "iLU = spilu(matrix.tocsc(), fill_factor=2)\n",
    "iLUx = lambda x: iLU.solve(x)\n",
    "P = LinearOperator(matrix.shape, iLUx)"
   ]
  },
  {
   "cell_type": "code",
   "execution_count": 27,
   "metadata": {},
   "outputs": [
    {
     "data": {
      "text/plain": [
       "array([[ 1.00000000e+00,  1.23053409e-16,  1.22354954e-16, ...,\n",
       "        -6.29617492e-12,  9.98613947e-12,  3.47508204e-11],\n",
       "       [-1.69780711e-17,  1.00000000e+00, -3.19577863e-17, ...,\n",
       "         2.82006079e-12, -4.44487910e-12, -1.70997629e-11],\n",
       "       [ 2.04949591e-17,  7.10489458e-18,  1.00000000e+00, ...,\n",
       "        -2.81578441e-12,  4.44453339e-12,  1.52196902e-11],\n",
       "       ...,\n",
       "       [-1.81753553e-27,  0.00000000e+00, -2.42338070e-27, ...,\n",
       "         9.99999989e-01,  1.43497435e-09, -3.99589639e-10],\n",
       "       [ 7.06819371e-28, -6.46234854e-27,  9.49157441e-27, ...,\n",
       "         1.08444763e-08,  9.99999999e-01,  3.97404581e-10],\n",
       "       [-6.46234854e-27,  2.58493941e-26, -8.40105310e-26, ...,\n",
       "        -6.60969301e-08, -4.49134872e-08,  1.00000001e+00]])"
      ]
     },
     "execution_count": 27,
     "metadata": {},
     "output_type": "execute_result"
    }
   ],
   "source": [
    "iLU.solve(np.identity(32)) * matrix"
   ]
  },
  {
   "cell_type": "code",
   "execution_count": 20,
   "metadata": {},
   "outputs": [
    {
     "name": "stdout",
     "output_type": "stream",
     "text": [
      "  (0, 0)\t-20.943134554424162\n",
      "  (0, 1)\t-7.815139805003225\n",
      "  (0, 2)\t7.806517724790244\n",
      "  (0, 3)\t-3.490522600664126\n",
      "  (0, 4)\t-0.002741189165393137\n",
      "  (0, 5)\t-0.014172072047918777\n",
      "  (0, 6)\t-0.005356668806118549\n",
      "  (0, 7)\t0.0015955774437646044\n",
      "  (0, 20)\t0.019690854190624572\n",
      "  (0, 21)\t0.004960605301965638\n",
      "  (0, 22)\t-0.005524592342223106\n",
      "  (0, 23)\t0.0015946658387517628\n",
      "  (0, 24)\t-0.0005677806947415643\n",
      "  (0, 25)\t-0.0029335427936747027\n",
      "  (0, 26)\t-0.0011050769223323307\n",
      "  (0, 27)\t0.0003315706605528377\n",
      "  (1, 0)\t-7.815139805003219\n",
      "  (1, 1)\t-104.73287663580575\n",
      "  (1, 2)\t-17.46984616263382\n",
      "  (1, 3)\t7.806517724790259\n",
      "  (1, 4)\t-0.014174124911848936\n",
      "  (1, 5)\t0.0008256188711451861\n",
      "  (1, 6)\t0.01887959028673885\n",
      "  (1, 7)\t-0.00552565160079844\n",
      "  (1, 20)\t0.004962802781644192\n",
      "  :\t:\n",
      "  (30, 15)\t0.004962802781644156\n",
      "  (30, 16)\t-0.014174124911848907\n",
      "  (30, 17)\t0.0008256188711451924\n",
      "  (30, 18)\t0.018879590286738655\n",
      "  (30, 19)\t-0.0055256516007985475\n",
      "  (30, 28)\t7.806517724790259\n",
      "  (30, 29)\t-17.469846162633807\n",
      "  (30, 30)\t-104.73287663580575\n",
      "  (30, 31)\t-7.815139805003222\n",
      "  (31, 8)\t0.004081228294884509\n",
      "  (31, 9)\t0.0010314855587519763\n",
      "  (31, 10)\t-0.0011454811925069564\n",
      "  (31, 11)\t0.00033157066055284685\n",
      "  (31, 12)\t0.0015946658387517557\n",
      "  (31, 13)\t-0.0055245923422230685\n",
      "  (31, 14)\t0.0049606053019655635\n",
      "  (31, 15)\t0.01969085419062442\n",
      "  (31, 16)\t-0.0027411891653931395\n",
      "  (31, 17)\t-0.014172072047918859\n",
      "  (31, 18)\t-0.005356668806118578\n",
      "  (31, 19)\t0.0015955774437646343\n",
      "  (31, 28)\t-3.490522600664126\n",
      "  (31, 29)\t7.80651772479024\n",
      "  (31, 30)\t-7.815139805003225\n",
      "  (31, 31)\t-20.943134554424173\n"
     ]
    }
   ],
   "source": [
    "print(matrix)"
   ]
  },
  {
   "cell_type": "code",
   "execution_count": 11,
   "metadata": {},
   "outputs": [
    {
     "data": {
      "text/plain": [
       "array([[ 5.72816670e+02,  8.18548246e+02, -8.17284076e+02, ...,\n",
       "         7.77452275e-05, -3.06989278e-01,  2.38886743e-02],\n",
       "       [ 8.18547719e+02,  1.13961894e+04,  3.53731662e+03, ...,\n",
       "        -2.97564985e-04, -1.86451524e+00,  6.95433450e-01],\n",
       "       [-8.17283699e+02,  3.53731568e+03,  1.13961894e+04, ...,\n",
       "         4.25359386e-04,  1.81434497e+00, -6.26955656e-01],\n",
       "       ...,\n",
       "       [ 1.61172366e+00, -3.48534438e-01, -1.57407590e+00, ...,\n",
       "         1.61249938e+04,  5.00589187e+03, -1.15630798e+03],\n",
       "       [ 7.74704164e-01, -2.05926285e+00,  1.52394781e+00, ...,\n",
       "         5.00589210e+03,  1.61249943e+04,  1.15871232e+03],\n",
       "       [-9.26032781e-02,  2.40893157e-02,  2.06468487e-01, ...,\n",
       "        -1.15631772e+03,  1.15822969e+03,  8.10493430e+02]])"
      ]
     },
     "execution_count": 11,
     "metadata": {},
     "output_type": "execute_result"
    }
   ],
   "source": [
    "matrix.dot(inverse)"
   ]
  },
  {
   "cell_type": "code",
   "execution_count": 24,
   "metadata": {},
   "outputs": [
    {
     "name": "stdout",
     "output_type": "stream",
     "text": [
      "Elapsed: 0.006137371063232422\n"
     ]
    }
   ],
   "source": [
    "start = time.time()\n",
    "(result, info) = lgmres(matrix, solution, tol=tol, atol=tol, callback=count_iterations)\n",
    "print(\"Elapsed:\", time.time() - start)"
   ]
  },
  {
   "cell_type": "code",
   "execution_count": 38,
   "metadata": {},
   "outputs": [
    {
     "name": "stderr",
     "output_type": "stream",
     "text": [
      "/home/rbeattie/miniconda3/envs/MSEAS/lib/python3.6/site-packages/scipy/sparse/linalg/dsolve/linsolve.py:296: SparseEfficiencyWarning: splu requires CSC matrix format\n",
      "  warn('splu requires CSC matrix format', SparseEfficiencyWarning)\n",
      "/home/rbeattie/miniconda3/envs/MSEAS/lib/python3.6/site-packages/scipy/sparse/linalg/dsolve/linsolve.py:203: SparseEfficiencyWarning: spsolve is more efficient when sparse b is in the CSC matrix format\n",
      "  'is in the CSC matrix format', SparseEfficiencyWarning)\n"
     ]
    }
   ],
   "source": [
    "from scipy.sparse.linalg import inv\n",
    "\n",
    "inverse = inv(matrix)"
   ]
  },
  {
   "cell_type": "code",
   "execution_count": 40,
   "metadata": {},
   "outputs": [
    {
     "name": "stdout",
     "output_type": "stream",
     "text": [
      "  (0, 30)\t-1.5146129380243427e-28\n",
      "  (0, 29)\t2.0194839173657902e-28\n",
      "  (0, 28)\t-1.8175355256292112e-27\n",
      "  (0, 27)\t-3.3881317890172014e-21\n",
      "  (0, 26)\t-8.470329472543003e-22\n",
      "  (0, 25)\t-5.929230630780102e-21\n",
      "  (0, 24)\t1.6940658945086007e-21\n",
      "  (0, 23)\t-1.5747657706631403e-20\n",
      "  (0, 22)\t2.280330153655559e-21\n",
      "  (0, 21)\t-3.425975302041502e-21\n",
      "  (0, 20)\t3.807450321035645e-20\n",
      "  (0, 19)\t1.2597122580248032e-28\n",
      "  (0, 18)\t-3.0252815715225803e-28\n",
      "  (0, 17)\t-9.025554831859901e-28\n",
      "  (0, 16)\t-9.574503414280573e-27\n",
      "  (0, 15)\t1.6543612251060553e-24\n",
      "  (0, 14)\t2.5849394142282115e-25\n",
      "  (0, 13)\t-4.1359030627651384e-25\n",
      "  (0, 12)\t-2.0679515313825692e-25\n",
      "  (0, 11)\t2.0319372010207325e-23\n",
      "  (0, 10)\t-6.85967016339867e-25\n",
      "  (0, 9)\t-1.883887466858014e-24\n",
      "  (0, 8)\t-9.831376246543165e-24\n",
      "  (0, 7)\t-5.757981625761751e-21\n",
      "  (0, 6)\t2.066687094636583e-21\n",
      "  :\t:\n",
      "  (30, 2)\t-1.4136387421560532e-26\n",
      "  (30, 1)\t-4.8467614016778965e-27\n",
      "  (30, 0)\t-3.2311742677852644e-27\n",
      "  (31, 31)\t1.0000000000000002\n",
      "  (31, 30)\t-2.7755575615628914e-17\n",
      "  (31, 28)\t-5.551115123125783e-17\n",
      "  (31, 26)\t-1.6543612251060553e-23\n",
      "  (31, 25)\t6.617444900424222e-24\n",
      "  (31, 24)\t5.293955920339377e-23\n",
      "  (31, 23)\t-1.1309109937248425e-26\n",
      "  (31, 22)\t6.462348535570529e-27\n",
      "  (31, 21)\t2.5849394142282115e-26\n",
      "  (31, 20)\t1.2924697071141057e-26\n",
      "  (31, 19)\t4.0657581468206416e-20\n",
      "  (31, 18)\t-1.3552527156068805e-20\n",
      "  (31, 14)\t1.6940658945086007e-20\n",
      "  (31, 13)\t1.3552527156068805e-20\n",
      "  (31, 12)\t-2.710505431213761e-20\n",
      "  (31, 10)\t-5.082197683525802e-21\n",
      "  (31, 9)\t5.929230630780102e-21\n",
      "  (31, 7)\t-2.6469779601696886e-23\n",
      "  (31, 6)\t-1.6543612251060553e-24\n",
      "  (31, 4)\t3.308722450212111e-24\n",
      "  (31, 2)\t1.6155871338926322e-27\n",
      "  (31, 1)\t1.6155871338926322e-27\n"
     ]
    }
   ],
   "source": [
    "identity_approx = matrix.dot(inverse)"
   ]
  },
  {
   "cell_type": "code",
   "execution_count": 48,
   "metadata": {},
   "outputs": [
    {
     "data": {
      "text/plain": [
       "scipy.sparse.csr.csr_matrix"
      ]
     },
     "execution_count": 48,
     "metadata": {},
     "output_type": "execute_result"
    }
   ],
   "source": [
    "type(inverse)"
   ]
  },
  {
   "cell_type": "code",
   "execution_count": 62,
   "metadata": {},
   "outputs": [
    {
     "ename": "IndexError",
     "evalue": "index out of bounds: 0<=0<32, 0<=40<32",
     "output_type": "error",
     "traceback": [
      "\u001b[0;31m---------------------------------------------------------------------------\u001b[0m",
      "\u001b[0;31mIndexError\u001b[0m                                Traceback (most recent call last)",
      "\u001b[0;32m<ipython-input-62-ac1daeaa6396>\u001b[0m in \u001b[0;36m<module>\u001b[0;34m\u001b[0m\n\u001b[0;32m----> 1\u001b[0;31m \u001b[0mprint\u001b[0m\u001b[0;34m(\u001b[0m\u001b[0minverse\u001b[0m\u001b[0;34m[\u001b[0m\u001b[0;36m0\u001b[0m\u001b[0;34m,\u001b[0m\u001b[0;36m40\u001b[0m\u001b[0;34m]\u001b[0m\u001b[0;34m)\u001b[0m\u001b[0;34m\u001b[0m\u001b[0;34m\u001b[0m\u001b[0m\n\u001b[0m",
      "\u001b[0;32m~/miniconda3/envs/MSEAS/lib/python3.6/site-packages/scipy/sparse/csr.py\u001b[0m in \u001b[0;36m__getitem__\u001b[0;34m(self, key)\u001b[0m\n\u001b[1;32m    287\u001b[0m             \u001b[0;31m# [i, j]\u001b[0m\u001b[0;34m\u001b[0m\u001b[0;34m\u001b[0m\u001b[0;34m\u001b[0m\u001b[0m\n\u001b[1;32m    288\u001b[0m             \u001b[0;32mif\u001b[0m \u001b[0misintlike\u001b[0m\u001b[0;34m(\u001b[0m\u001b[0mcol\u001b[0m\u001b[0;34m)\u001b[0m\u001b[0;34m:\u001b[0m\u001b[0;34m\u001b[0m\u001b[0;34m\u001b[0m\u001b[0m\n\u001b[0;32m--> 289\u001b[0;31m                 \u001b[0;32mreturn\u001b[0m \u001b[0mself\u001b[0m\u001b[0;34m.\u001b[0m\u001b[0m_get_single_element\u001b[0m\u001b[0;34m(\u001b[0m\u001b[0mrow\u001b[0m\u001b[0;34m,\u001b[0m \u001b[0mcol\u001b[0m\u001b[0;34m)\u001b[0m\u001b[0;34m\u001b[0m\u001b[0;34m\u001b[0m\u001b[0m\n\u001b[0m\u001b[1;32m    290\u001b[0m             \u001b[0;31m# [i, 1:2]\u001b[0m\u001b[0;34m\u001b[0m\u001b[0;34m\u001b[0m\u001b[0;34m\u001b[0m\u001b[0m\n\u001b[1;32m    291\u001b[0m             \u001b[0;32melif\u001b[0m \u001b[0misinstance\u001b[0m\u001b[0;34m(\u001b[0m\u001b[0mcol\u001b[0m\u001b[0;34m,\u001b[0m \u001b[0mslice\u001b[0m\u001b[0;34m)\u001b[0m\u001b[0;34m:\u001b[0m\u001b[0;34m\u001b[0m\u001b[0;34m\u001b[0m\u001b[0m\n",
      "\u001b[0;32m~/miniconda3/envs/MSEAS/lib/python3.6/site-packages/scipy/sparse/compressed.py\u001b[0m in \u001b[0;36m_get_single_element\u001b[0;34m(self, row, col)\u001b[0m\n\u001b[1;32m    868\u001b[0m         \u001b[0;32mif\u001b[0m \u001b[0;32mnot\u001b[0m \u001b[0;34m(\u001b[0m\u001b[0;36m0\u001b[0m \u001b[0;34m<=\u001b[0m \u001b[0mrow\u001b[0m \u001b[0;34m<\u001b[0m \u001b[0mM\u001b[0m\u001b[0;34m)\u001b[0m \u001b[0;32mor\u001b[0m \u001b[0;32mnot\u001b[0m \u001b[0;34m(\u001b[0m\u001b[0;36m0\u001b[0m \u001b[0;34m<=\u001b[0m \u001b[0mcol\u001b[0m \u001b[0;34m<\u001b[0m \u001b[0mN\u001b[0m\u001b[0;34m)\u001b[0m\u001b[0;34m:\u001b[0m\u001b[0;34m\u001b[0m\u001b[0;34m\u001b[0m\u001b[0m\n\u001b[1;32m    869\u001b[0m             raise IndexError(\"index out of bounds: 0<=%d<%d, 0<=%d<%d\" %\n\u001b[0;32m--> 870\u001b[0;31m                              (row, M, col, N))\n\u001b[0m\u001b[1;32m    871\u001b[0m \u001b[0;34m\u001b[0m\u001b[0m\n\u001b[1;32m    872\u001b[0m         \u001b[0mmajor_index\u001b[0m\u001b[0;34m,\u001b[0m \u001b[0mminor_index\u001b[0m \u001b[0;34m=\u001b[0m \u001b[0mself\u001b[0m\u001b[0;34m.\u001b[0m\u001b[0m_swap\u001b[0m\u001b[0;34m(\u001b[0m\u001b[0;34m(\u001b[0m\u001b[0mrow\u001b[0m\u001b[0;34m,\u001b[0m \u001b[0mcol\u001b[0m\u001b[0;34m)\u001b[0m\u001b[0;34m)\u001b[0m\u001b[0;34m\u001b[0m\u001b[0;34m\u001b[0m\u001b[0m\n",
      "\u001b[0;31mIndexError\u001b[0m: index out of bounds: 0<=0<32, 0<=40<32"
     ]
    }
   ],
   "source": [
    "print(inverse[0,40])"
   ]
  },
  {
   "cell_type": "code",
   "execution_count": null,
   "metadata": {},
   "outputs": [],
   "source": []
  }
 ],
 "metadata": {
  "kernelspec": {
   "display_name": "Python 3",
   "language": "python",
   "name": "python3"
  },
  "language_info": {
   "codemirror_mode": {
    "name": "ipython",
    "version": 3
   },
   "file_extension": ".py",
   "mimetype": "text/x-python",
   "name": "python",
   "nbconvert_exporter": "python",
   "pygments_lexer": "ipython3",
   "version": "3.6.8"
  }
 },
 "nbformat": 4,
 "nbformat_minor": 2
}
